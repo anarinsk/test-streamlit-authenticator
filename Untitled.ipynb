{
 "cells": [
  {
   "cell_type": "code",
   "execution_count": 2,
   "id": "ec18bbe5-0534-45f3-8785-b174e49a7e13",
   "metadata": {},
   "outputs": [
    {
     "name": "stderr",
     "output_type": "stream",
     "text": [
      "2021-11-22 01:52:14.156 INFO    numexpr.utils: Note: NumExpr detected 16 cores but \"NUMEXPR_MAX_THREADS\" not set, so enforcing safe limit of 8.\n",
      "2021-11-22 01:52:14.157 INFO    numexpr.utils: NumExpr defaulting to 8 threads.\n"
     ]
    }
   ],
   "source": [
    "import streamlit as st\n",
    "import streamlit_authenticator as stauth"
   ]
  },
  {
   "cell_type": "code",
   "execution_count": 3,
   "id": "633ed8b0-722a-4d1b-93aa-7f0eae28ec74",
   "metadata": {},
   "outputs": [],
   "source": [
    "names = ['John Smith','Rebecca Briggs']\n",
    "usernames = ['jsmith','rbriggs']\n",
    "passwords = ['123','456']"
   ]
  },
  {
   "cell_type": "code",
   "execution_count": 4,
   "id": "070e7b8f-b2e7-4445-b7b5-661e8c3ac2a2",
   "metadata": {},
   "outputs": [],
   "source": [
    "hashed_passwords = stauth.hasher(passwords).generate()"
   ]
  },
  {
   "cell_type": "code",
   "execution_count": 5,
   "id": "42b4e11d-314d-4ed3-b315-6aa57fe2ef3b",
   "metadata": {},
   "outputs": [],
   "source": [
    "authenticator = stauth.authenticate(names,usernames,hashed_passwords,\n",
    "    'some_cookie_name','some_signature_key',cookie_expiry_days=30)"
   ]
  },
  {
   "cell_type": "code",
   "execution_count": null,
   "id": "aa226001-d932-4a31-a1e7-93b7d5dddf38",
   "metadata": {},
   "outputs": [],
   "source": [
    "name, authentication_status = authenticator.login('Login','main')"
   ]
  },
  {
   "cell_type": "code",
   "execution_count": 6,
   "id": "e4083cf6-e1ce-4c1c-a917-0db63e04444d",
   "metadata": {},
   "outputs": [
    {
     "data": {
      "text/plain": [
       "['$2b$12$aQHnEmGfUTtauDP41PZTtObwLayhR3Nrui4PInymtv0J5OvjPYa4O',\n",
       " '$2b$12$43.4ixYKxSr22wPj3HfGzum7pNO0IMMYkV6eOyXyT8WMFWsJJRhMK']"
      ]
     },
     "execution_count": 6,
     "metadata": {},
     "output_type": "execute_result"
    }
   ],
   "source": [
    "hashed_passwords"
   ]
  },
  {
   "cell_type": "code",
   "execution_count": null,
   "id": "9535c1f3-78f3-403c-bc4d-0486f024ce14",
   "metadata": {},
   "outputs": [],
   "source": []
  }
 ],
 "metadata": {
  "kernelspec": {
   "display_name": "Python 3 (ipykernel)",
   "language": "python",
   "name": "python3"
  },
  "language_info": {
   "codemirror_mode": {
    "name": "ipython",
    "version": 3
   },
   "file_extension": ".py",
   "mimetype": "text/x-python",
   "name": "python",
   "nbconvert_exporter": "python",
   "pygments_lexer": "ipython3",
   "version": "3.9.7"
  }
 },
 "nbformat": 4,
 "nbformat_minor": 5
}
